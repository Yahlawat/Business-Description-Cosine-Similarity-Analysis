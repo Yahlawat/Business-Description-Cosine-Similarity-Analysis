{
 "cells": [
  {
   "cell_type": "markdown",
   "id": "5fbafc48",
   "metadata": {},
   "source": [
    "# **Business Description Clustering**\n",
    "This Jupyter Notebook implements a machine learning pipeline for clustering companies based on their business descriptions.\n",
    "\n",
    "**Steps:**\n",
    "1. Load and preprocess data\n",
    "2. Encode business descriptions using `SentenceTransformer`\n",
    "3. Compute similarity between descriptions\n",
    "4. Filter out non-relevant companies\n",
    "5. Visualize results with a heatmap\n",
    "\n",
    "**Dependencies:** `pandas`, `numpy`, `sentence-transformers`, `nltk`, `torch`, `seaborn`, `matplotlib`"
   ]
  },
  {
   "cell_type": "markdown",
   "id": "d7a87459",
   "metadata": {},
   "source": [
    "## **1. Install & Import Required Libraries**"
   ]
  },
  {
   "cell_type": "code",
   "execution_count": null,
   "id": "2fdb5185",
   "metadata": {},
   "outputs": [],
   "source": [
    "!pip install pandas numpy sentence-transformers nltk torch seaborn matplotlib"
   ]
  },
  {
   "cell_type": "markdown",
   "id": "9add7181",
   "metadata": {},
   "source": [
    "## **2. Load & Preprocess Data**"
   ]
  },
  {
   "cell_type": "code",
   "execution_count": null,
   "id": "8664d679",
   "metadata": {},
   "outputs": [],
   "source": [
    "\n",
    "import pandas as pd\n",
    "import nltk\n",
    "from nltk.tokenize import sent_tokenize\n",
    "\n",
    "nltk.download(\"punkt\", quiet=True)\n",
    "\n",
    "# Load data\n",
    "file_path = \"data/raw/management_support.csv\"  # Adjust path if needed\n",
    "df = pd.read_csv(file_path)\n",
    "\n",
    "# Rename columns\n",
    "df.rename(columns={'Company Name': 'company_name', 'Business Description': 'business_description'}, inplace=True)\n",
    "df[\"cleaned_description\"] = df[\"business_description\"].str.lower()\n",
    "\n",
    "# Tokenize descriptions into sentences\n",
    "df[\"sentences\"] = df[\"cleaned_description\"].apply(sent_tokenize)\n",
    "\n",
    "# Expand DataFrame (one row per sentence)\n",
    "df_expanded = df.explode(\"sentences\").rename(columns={\"sentences\": \"individual_sentences\"}).reset_index(drop=True)\n",
    "df_expanded.head()\n"
   ]
  },
  {
   "cell_type": "markdown",
   "id": "b8638cfc",
   "metadata": {},
   "source": [
    "## **3. Encode Sentences Using `SentenceTransformer`**"
   ]
  },
  {
   "cell_type": "code",
   "execution_count": null,
   "id": "ef02576d",
   "metadata": {},
   "outputs": [],
   "source": [
    "\n",
    "import torch\n",
    "from sentence_transformers import SentenceTransformer\n",
    "\n",
    "# Load pre-trained model\n",
    "model = SentenceTransformer(\"all-mpnet-base-v2\")\n",
    "\n",
    "# Encode individual sentences\n",
    "bd_sentences = df_expanded[\"individual_sentences\"].tolist()\n",
    "bd_embeddings = model.encode(bd_sentences, convert_to_tensor=True)\n"
   ]
  },
  {
   "cell_type": "markdown",
   "id": "2e194dcf",
   "metadata": {},
   "source": [
    "## **4. Compute Similarity Scores**"
   ]
  },
  {
   "cell_type": "code",
   "execution_count": null,
   "id": "aa7590f9",
   "metadata": {},
   "outputs": [],
   "source": [
    "\n",
    "from sentence_transformers import util\n",
    "\n",
    "# Input a query sentence\n",
    "input_sentences = [\"provides consultancy services.\"]\n",
    "input_sentences_processed = [s.lower() for s in input_sentences]\n",
    "input_embedding = model.encode(input_sentences_processed, convert_to_tensor=True)\n",
    "\n",
    "# Compute cosine similarity scores\n",
    "cosine_scores = util.cos_sim(input_embedding, bd_embeddings)[0]\n",
    "\n",
    "# Get top 25 most similar descriptions\n",
    "top_k = 25\n",
    "top_results = torch.topk(cosine_scores, k=top_k)\n",
    "\n",
    "# Store results in DataFrame\n",
    "results = []\n",
    "for score, idx in zip(top_results[0], top_results[1]):\n",
    "    idx = idx.item()\n",
    "    results.append({\n",
    "        \"company_name\": df_expanded.iloc[idx][\"company_name\"],\n",
    "        \"business_description\": df_expanded.iloc[idx][\"business_description\"],\n",
    "        \"similar_sentence\": df_expanded.iloc[idx][\"individual_sentences\"],\n",
    "        \"similarity_score\": round(score.item(), 4),\n",
    "    })\n",
    "\n",
    "results_df = pd.DataFrame(results)\n",
    "results_df.head()\n"
   ]
  },
  {
   "cell_type": "markdown",
   "id": "12140657",
   "metadata": {},
   "source": [
    "## **5. Filter Non-Similar Companies**"
   ]
  },
  {
   "cell_type": "code",
   "execution_count": null,
   "id": "bab1b4ab",
   "metadata": {},
   "outputs": [],
   "source": [
    "\n",
    "# Define non-relevant category\n",
    "non_similar_sentences = [\"company provides consumer loans\"]\n",
    "non_similar_sentences_processed = [s.lower() for s in non_similar_sentences]\n",
    "non_similar_embeddings = model.encode(non_similar_sentences_processed, convert_to_tensor=True)\n",
    "\n",
    "# Function to check if a company should be excluded\n",
    "def is_similar_to_non_similar(description_embedding):\n",
    "    cosine_scores = util.cos_sim(description_embedding, non_similar_embeddings)[0]\n",
    "    return cosine_scores.max().item() >= 0.6  # Adjust threshold if needed\n",
    "\n",
    "# Filter out companies with non-relevant similarities\n",
    "companies_to_exclude = set()\n",
    "for company_name, group in df_expanded.groupby(\"company_name\"):\n",
    "    embeddings = model.encode(group[\"individual_sentences\"].tolist(), convert_to_tensor=True)\n",
    "    if any(is_similar_to_non_similar(embedding) for embedding in embeddings):\n",
    "        companies_to_exclude.add(company_name)\n",
    "\n",
    "# Remove excluded companies from dataset\n",
    "df_filtered = df_expanded[~df_expanded[\"company_name\"].isin(companies_to_exclude)].reset_index(drop=True)\n",
    "df_filtered.head()\n"
   ]
  },
  {
   "cell_type": "markdown",
   "id": "0c2fcb82",
   "metadata": {},
   "source": [
    "## **6. Compute Similarity After Filtering**"
   ]
  },
  {
   "cell_type": "code",
   "execution_count": null,
   "id": "f1f60529",
   "metadata": {},
   "outputs": [],
   "source": [
    "\n",
    "# Recompute similarity scores with filtered dataset\n",
    "filtered_bd_sentences = df_filtered[\"individual_sentences\"].tolist()\n",
    "filtered_bd_embeddings = model.encode(filtered_bd_sentences, convert_to_tensor=True)\n",
    "filtered_cosine_scores = util.cos_sim(input_embedding, filtered_bd_embeddings)[0]\n",
    "\n",
    "# Get top 25 most similar descriptions after filtering\n",
    "top_results_filtered = torch.topk(filtered_cosine_scores, k=top_k)\n",
    "\n",
    "# Store results in DataFrame\n",
    "filtered_results = []\n",
    "for score, idx in zip(top_results_filtered[0], top_results_filtered[1]):\n",
    "    idx = idx.item()\n",
    "    filtered_results.append({\n",
    "        \"company_name\": df_filtered.iloc[idx][\"company_name\"],\n",
    "        \"business_description\": df_filtered.iloc[idx][\"business_description\"],\n",
    "        \"similar_sentence\": df_filtered.iloc[idx][\"individual_sentences\"],\n",
    "        \"similarity_score\": round(score.item(), 4),\n",
    "    })\n",
    "\n",
    "filtered_results_df = pd.DataFrame(filtered_results)\n",
    "filtered_results_df.head()\n"
   ]
  },
  {
   "cell_type": "markdown",
   "id": "ab763b20",
   "metadata": {},
   "source": [
    "## **7. Visualize Similarity Scores Using Heatmap**"
   ]
  },
  {
   "cell_type": "code",
   "execution_count": null,
   "id": "d862b810",
   "metadata": {},
   "outputs": [],
   "source": [
    "\n",
    "import seaborn as sns\n",
    "import matplotlib.pyplot as plt\n",
    "\n",
    "# Pivot data for heatmap\n",
    "pivot_table = filtered_results_df.pivot(index=\"company_name\", columns=\"similar_sentence\", values=\"similarity_score\")\n",
    "\n",
    "# Plot heatmap\n",
    "plt.figure(figsize=(10, 8))\n",
    "sns.heatmap(pivot_table, cmap=\"coolwarm\", annot=False)\n",
    "plt.title(\"Company Similarity Heatmap\")\n",
    "plt.xlabel(\"Similar Sentences\")\n",
    "plt.ylabel(\"Company Name\")\n",
    "plt.show()\n"
   ]
  },
  {
   "cell_type": "markdown",
   "id": "c9bfd419",
   "metadata": {},
   "source": [
    "## **8. Save Results**"
   ]
  },
  {
   "cell_type": "code",
   "execution_count": null,
   "id": "38ca4afc",
   "metadata": {},
   "outputs": [],
   "source": [
    "\n",
    "# Save results to CSV\n",
    "filtered_results_df.to_csv(\"data/results/filtered_companies.csv\", index=False)\n",
    "print(\"Results saved successfully! ✅\")\n"
   ]
  }
 ],
 "metadata": {
  "language_info": {
   "name": "python"
  }
 },
 "nbformat": 4,
 "nbformat_minor": 5
}
